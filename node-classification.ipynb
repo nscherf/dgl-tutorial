{
 "cells": [
  {
   "cell_type": "code",
   "execution_count": 1,
   "metadata": {},
   "outputs": [
    {
     "name": "stderr",
     "output_type": "stream",
     "text": [
      "/Users/nscherf/miniconda3/envs/dgl/lib/python3.10/site-packages/tqdm/auto.py:21: TqdmWarning: IProgress not found. Please update jupyter and ipywidgets. See https://ipywidgets.readthedocs.io/en/stable/user_install.html\n",
      "  from .autonotebook import tqdm as notebook_tqdm\n"
     ]
    }
   ],
   "source": [
    "import os\n",
    "os.environ[\"DGLBACKEND\"] = \"pytorch\"\n",
    "import dgl\n",
    "import dgl.data\n",
    "import torch\n",
    "import torch.nn as nn\n",
    "import torch.nn.functional as F"
   ]
  },
  {
   "cell_type": "markdown",
   "metadata": {},
   "source": [
    "Build an example of semi-supervised node classification. "
   ]
  },
  {
   "cell_type": "code",
   "execution_count": 2,
   "metadata": {},
   "outputs": [
    {
     "name": "stdout",
     "output_type": "stream",
     "text": [
      "Downloading /Users/nscherf/.dgl/cora_v2.zip from https://data.dgl.ai/dataset/cora_v2.zip...\n"
     ]
    },
    {
     "name": "stderr",
     "output_type": "stream",
     "text": [
      "/Users/nscherf/.dgl/cora_v2.zip: 100%|██████████| 132k/132k [00:00<00:00, 44.2MB/s]\n"
     ]
    },
    {
     "name": "stdout",
     "output_type": "stream",
     "text": [
      "Extracting file to /Users/nscherf/.dgl/cora_v2_d697a464\n",
      "Finished data loading and preprocessing.\n",
      "  NumNodes: 2708\n",
      "  NumEdges: 10556\n",
      "  NumFeats: 1433\n",
      "  NumClasses: 7\n",
      "  NumTrainingSamples: 140\n",
      "  NumValidationSamples: 500\n",
      "  NumTestSamples: 1000\n",
      "Done saving data into cached files.\n",
      "Number of categories: 7\n"
     ]
    }
   ],
   "source": [
    "dataset = dgl.data.CoraGraphDataset()\n",
    "print(f\"Number of categories: {dataset.num_classes}\")"
   ]
  },
  {
   "cell_type": "code",
   "execution_count": 3,
   "metadata": {},
   "outputs": [
    {
     "data": {
      "text/plain": [
       "1"
      ]
     },
     "execution_count": 3,
     "metadata": {},
     "output_type": "execute_result"
    }
   ],
   "source": [
    "len(dataset)"
   ]
  },
  {
   "cell_type": "code",
   "execution_count": 4,
   "metadata": {},
   "outputs": [],
   "source": [
    "g = dataset[0]"
   ]
  },
  {
   "cell_type": "code",
   "execution_count": 6,
   "metadata": {},
   "outputs": [
    {
     "data": {
      "text/plain": [
       "dict_keys(['train_mask', 'val_mask', 'test_mask', 'label', 'feat'])"
      ]
     },
     "execution_count": 6,
     "metadata": {},
     "output_type": "execute_result"
    }
   ],
   "source": [
    "g.ndata.keys()"
   ]
  },
  {
   "cell_type": "code",
   "execution_count": 7,
   "metadata": {},
   "outputs": [
    {
     "name": "stdout",
     "output_type": "stream",
     "text": [
      "node features\n",
      "tensor([[0., 0., 0.,  ..., 0., 0., 0.],\n",
      "        [0., 0., 0.,  ..., 0., 0., 0.],\n",
      "        [0., 0., 0.,  ..., 0., 0., 0.],\n",
      "        ...,\n",
      "        [0., 0., 0.,  ..., 0., 0., 0.],\n",
      "        [0., 0., 0.,  ..., 0., 0., 0.],\n",
      "        [0., 0., 0.,  ..., 0., 0., 0.]])\n",
      "node labels\n",
      "tensor([3, 4, 4,  ..., 3, 3, 3])\n"
     ]
    }
   ],
   "source": [
    "print(\"node features\")\n",
    "print(g.ndata['feat'])\n",
    "print(\"node labels\")\n",
    "print(g.ndata['label'])"
   ]
  },
  {
   "cell_type": "code",
   "execution_count": 9,
   "metadata": {},
   "outputs": [
    {
     "name": "stdout",
     "output_type": "stream",
     "text": [
      "{}\n"
     ]
    }
   ],
   "source": [
    "print(g.edata)"
   ]
  },
  {
   "cell_type": "code",
   "execution_count": 10,
   "metadata": {},
   "outputs": [],
   "source": [
    "from dgl.nn import GraphConv\n",
    "\n",
    "class GCN(nn.Module):\n",
    "    def __init__(self, in_feats, h_feats, num_classes):\n",
    "        super(GCN, self).__init__()\n",
    "        self.conv1 = GraphConv(in_feats, h_feats)\n",
    "        self.conv2 = GraphConv(h_feats, num_classes)\n",
    "\n",
    "    def forward(self, g, in_feat):\n",
    "        h = self.conv1(g, in_feat)\n",
    "        h = F.relu(h)\n",
    "        h = self.conv2(g, h)\n",
    "        return h\n",
    "\n",
    "# Create the model with given dimensions\n",
    "model = GCN(g.ndata['feat'].shape[1], 16, dataset.num_classes)"
   ]
  },
  {
   "cell_type": "code",
   "execution_count": 11,
   "metadata": {},
   "outputs": [
    {
     "name": "stdout",
     "output_type": "stream",
     "text": [
      "Epoch: 0, Loss: 1.9459667205810547, Train accuracy: 0.15714286267757416, Val accuracy: 0.14800000190734863, Test accuracy: 0.14399999380111694\n",
      "Epoch: 5, Loss: 1.8930792808532715, Train accuracy: 0.6928571462631226, Val accuracy: 0.5519999861717224, Test accuracy: 0.5759999752044678\n",
      "Epoch: 10, Loss: 1.8115625381469727, Train accuracy: 0.8642857074737549, Val accuracy: 0.6179999709129333, Test accuracy: 0.6399999856948853\n",
      "Epoch: 15, Loss: 1.7063400745391846, Train accuracy: 0.8785714507102966, Val accuracy: 0.6119999885559082, Test accuracy: 0.6320000290870667\n",
      "Epoch: 20, Loss: 1.5788606405258179, Train accuracy: 0.8857142925262451, Val accuracy: 0.6579999923706055, Test accuracy: 0.6800000071525574\n",
      "Epoch: 25, Loss: 1.4329876899719238, Train accuracy: 0.9214285612106323, Val accuracy: 0.6880000233650208, Test accuracy: 0.7080000042915344\n",
      "Epoch: 30, Loss: 1.2726044654846191, Train accuracy: 0.949999988079071, Val accuracy: 0.6980000138282776, Test accuracy: 0.7260000109672546\n",
      "Epoch: 35, Loss: 1.1066244840621948, Train accuracy: 0.9642857313156128, Val accuracy: 0.7120000123977661, Test accuracy: 0.7440000176429749\n",
      "Epoch: 40, Loss: 0.9425950050354004, Train accuracy: 0.9642857313156128, Val accuracy: 0.722000002861023, Test accuracy: 0.7540000081062317\n",
      "Epoch: 45, Loss: 0.7886284589767456, Train accuracy: 0.9785714149475098, Val accuracy: 0.722000002861023, Test accuracy: 0.7590000033378601\n",
      "Epoch: 50, Loss: 0.6504141092300415, Train accuracy: 0.9785714149475098, Val accuracy: 0.7379999756813049, Test accuracy: 0.7680000066757202\n",
      "Epoch: 55, Loss: 0.5311324000358582, Train accuracy: 0.9857142567634583, Val accuracy: 0.7519999742507935, Test accuracy: 0.7749999761581421\n",
      "Epoch: 60, Loss: 0.43157076835632324, Train accuracy: 0.9857142567634583, Val accuracy: 0.7620000243186951, Test accuracy: 0.7739999890327454\n",
      "Epoch: 65, Loss: 0.350536048412323, Train accuracy: 0.9857142567634583, Val accuracy: 0.7720000147819519, Test accuracy: 0.7730000019073486\n",
      "Epoch: 70, Loss: 0.28570255637168884, Train accuracy: 1.0, Val accuracy: 0.777999997138977, Test accuracy: 0.7820000052452087\n",
      "Epoch: 75, Loss: 0.23437845706939697, Train accuracy: 1.0, Val accuracy: 0.7760000228881836, Test accuracy: 0.7870000004768372\n",
      "Epoch: 80, Loss: 0.19390511512756348, Train accuracy: 1.0, Val accuracy: 0.7760000228881836, Test accuracy: 0.7900000214576721\n",
      "Epoch: 85, Loss: 0.16195684671401978, Train accuracy: 1.0, Val accuracy: 0.7760000228881836, Test accuracy: 0.7910000085830688\n",
      "Epoch: 90, Loss: 0.13662311434745789, Train accuracy: 1.0, Val accuracy: 0.7799999713897705, Test accuracy: 0.7960000038146973\n",
      "Epoch: 95, Loss: 0.11639601737260818, Train accuracy: 1.0, Val accuracy: 0.7839999794960022, Test accuracy: 0.7940000295639038\n"
     ]
    }
   ],
   "source": [
    "def train(g, model):\n",
    "    optimizer = torch.optim.Adam(model.parameters(), lr=0.01)\n",
    "    best_val_acc = 0\n",
    "    best_test_acc = 0\n",
    "\n",
    "    features = g.ndata['feat']\n",
    "    labels = g.ndata['label']\n",
    "    train_mask = g.ndata['train_mask']\n",
    "    val_mask = g.ndata['val_mask']\n",
    "    test_mask = g.ndata['test_mask']\n",
    "    for e in range(100):\n",
    "        logits = model(g, features)\n",
    "        pred = logits.argmax(1)\n",
    "        loss = F.cross_entropy(logits[train_mask], labels[train_mask])\n",
    "        train_acc = (pred[train_mask] == labels[train_mask]).float().mean()\n",
    "        val_acc = (pred[val_mask] == labels[val_mask]).float().mean()\n",
    "        test_acc = (pred[test_mask] == labels[test_mask]).float().mean()\n",
    "\n",
    "        if best_val_acc < val_acc:\n",
    "            best_val_acc = val_acc\n",
    "            best_test_acc = test_acc\n",
    "        \n",
    "        optimizer.zero_grad()\n",
    "        loss.backward()\n",
    "        optimizer.step()\n",
    "\n",
    "        if e % 5 == 0:\n",
    "            print(f\"Epoch: {e}, Loss: {loss}, Train accuracy: {train_acc}, Val accuracy: {val_acc}, Test accuracy: {test_acc}\")\n",
    "\n",
    "model = GCN(g.ndata['feat'].shape[1], 16, dataset.num_classes)\n",
    "train(g, model)"
   ]
  },
  {
   "cell_type": "code",
   "execution_count": 15,
   "metadata": {},
   "outputs": [
    {
     "data": {
      "text/plain": [
       "tensor([ True,  True,  True,  ..., False, False, False])"
      ]
     },
     "execution_count": 15,
     "metadata": {},
     "output_type": "execute_result"
    }
   ],
   "source": [
    "g.ndata['train_mask']"
   ]
  },
  {
   "cell_type": "code",
   "execution_count": null,
   "metadata": {},
   "outputs": [],
   "source": []
  }
 ],
 "metadata": {
  "kernelspec": {
   "display_name": "dgl",
   "language": "python",
   "name": "python3"
  },
  "language_info": {
   "codemirror_mode": {
    "name": "ipython",
    "version": 3
   },
   "file_extension": ".py",
   "mimetype": "text/x-python",
   "name": "python",
   "nbconvert_exporter": "python",
   "pygments_lexer": "ipython3",
   "version": "3.10.13"
  }
 },
 "nbformat": 4,
 "nbformat_minor": 2
}
